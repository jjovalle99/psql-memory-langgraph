{
 "cells": [
  {
   "cell_type": "code",
   "execution_count": 1,
   "metadata": {},
   "outputs": [],
   "source": [
    "import nest_asyncio\n",
    "import os\n",
    "from apsql import AsyncPostgresSaver\n",
    "\n",
    "nest_asyncio.apply()"
   ]
  },
  {
   "cell_type": "code",
   "execution_count": 2,
   "metadata": {},
   "outputs": [],
   "source": [
    "DB_NAME: str = \"...\"\n",
    "DB_USER: str = \"...\"\n",
    "DB_PASSWORD: str = \"...\"\n",
    "DB_HOST: str = \"...\"\n",
    "DB_PORT: int = ...\n",
    "os.environ[\"OPENAI_API_KEY\"] = \"...\""
   ]
  },
  {
   "cell_type": "code",
   "execution_count": 3,
   "metadata": {},
   "outputs": [],
   "source": [
    "conn_info = f\"dbname={DB_NAME} user={DB_USER} password={DB_PASSWORD} host={DB_HOST} port={DB_PORT}\"\n",
    "memory = AsyncPostgresSaver.from_conn_string(conn_info)"
   ]
  },
  {
   "cell_type": "code",
   "execution_count": 4,
   "metadata": {},
   "outputs": [],
   "source": [
    "from typing import Annotated, Literal\n",
    "\n",
    "from langchain_core.tools import tool\n",
    "from langchain_openai import ChatOpenAI\n",
    "from langgraph.graph import END, StateGraph\n",
    "from langgraph.graph.message import add_messages\n",
    "from langgraph.prebuilt import ToolNode\n",
    "from typing_extensions import TypedDict\n",
    "class State(TypedDict):\n",
    "    messages: Annotated[list, add_messages]\n",
    "@tool\n",
    "def search(query: str):\n",
    "    \"\"\"Call to surf the web.\"\"\"\n",
    "    return [\"The answer to your question lies within.\"]\n",
    "tools = [search]\n",
    "tool_node = ToolNode(tools)\n",
    "model = ChatOpenAI(temperature=0, streaming=True)\n",
    "bound_model = model.bind_tools(tools)\n",
    "def should_continue(state: State) -> Literal[\"action\", \"__end__\"]:\n",
    "    last_message = state[\"messages\"][-1]\n",
    "    if not last_message.tool_calls:\n",
    "        return \"__end__\"\n",
    "    return \"action\"\n",
    "def call_model(state: State):\n",
    "    response = model.invoke(state[\"messages\"])\n",
    "    return {\"messages\": response}\n",
    "workflow = StateGraph(State)\n",
    "workflow.add_node(\"agent\", call_model)\n",
    "workflow.add_node(\"action\", tool_node)\n",
    "workflow.set_entry_point(\"agent\")\n",
    "workflow.add_conditional_edges(\n",
    "    \"agent\",\n",
    "    should_continue,\n",
    ")\n",
    "workflow.add_edge(\"action\", \"agent\")\n",
    "app = workflow.compile(checkpointer=memory, debug=True)"
   ]
  },
  {
   "cell_type": "code",
   "execution_count": 6,
   "metadata": {},
   "outputs": [
    {
     "name": "stdout",
     "output_type": "stream",
     "text": [
      "\u001b[36;1m\u001b[1;3m[-1:checkpoint]\u001b[0m \u001b[1mState at the end of step -1:\n",
      "\u001b[0m{'messages': []}\n",
      "\u001b[36;1m\u001b[1;3m[0:tasks]\u001b[0m \u001b[1mStarting step 0 with 1 task:\n",
      "\u001b[0m- \u001b[32;1m\u001b[1;3m__start__\u001b[0m -> {'messages': [HumanMessage(content='hi')]}\n",
      "\u001b[36;1m\u001b[1;3m[0:writes]\u001b[0m \u001b[1mFinished step 0 with writes to 1 channel:\n",
      "\u001b[0m- \u001b[33;1m\u001b[1;3mmessages\u001b[0m -> [HumanMessage(content='hi')]\n",
      "\u001b[36;1m\u001b[1;3m[0:checkpoint]\u001b[0m \u001b[1mState at the end of step 0:\n",
      "\u001b[0m{'messages': [HumanMessage(content='hi', id='03ee94c8-e10a-4a16-a188-e19b83a60967')]}\n",
      "\u001b[36;1m\u001b[1;3m[1:tasks]\u001b[0m \u001b[1mStarting step 1 with 1 task:\n",
      "\u001b[0m- \u001b[32;1m\u001b[1;3magent\u001b[0m -> {'messages': [HumanMessage(content='hi', id='03ee94c8-e10a-4a16-a188-e19b83a60967')]}\n",
      "\u001b[36;1m\u001b[1;3m[1:writes]\u001b[0m \u001b[1mFinished step 1 with writes to 1 channel:\n",
      "\u001b[0m- \u001b[33;1m\u001b[1;3mmessages\u001b[0m -> AIMessage(content='Hello! How can I assist you today?', response_metadata={'finish_reason': 'stop'}, id='run-d4ba6652-bb27-443d-9c31-43b7680ea508-0')\n",
      "\u001b[36;1m\u001b[1;3m[1:checkpoint]\u001b[0m \u001b[1mState at the end of step 1:\n",
      "\u001b[0m{'messages': [HumanMessage(content='hi', id='03ee94c8-e10a-4a16-a188-e19b83a60967'),\n",
      "              AIMessage(content='Hello! How can I assist you today?', response_metadata={'finish_reason': 'stop'}, id='run-d4ba6652-bb27-443d-9c31-43b7680ea508-0')]}\n"
     ]
    },
    {
     "data": {
      "text/plain": [
       "{'messages': [HumanMessage(content='hi', id='03ee94c8-e10a-4a16-a188-e19b83a60967'),\n",
       "  AIMessage(content='Hello! How can I assist you today?', response_metadata={'finish_reason': 'stop'}, id='run-d4ba6652-bb27-443d-9c31-43b7680ea508-0')]}"
      ]
     },
     "execution_count": 6,
     "metadata": {},
     "output_type": "execute_result"
    }
   ],
   "source": [
    "from langchain_core.messages import HumanMessage\n",
    "\n",
    "config = {\"configurable\": {\"user_id\": \"123\", \"thread_id\": \"10101\"}}\n",
    "input_message = HumanMessage(content=\"hi\")\n",
    "await app.ainvoke({\"messages\": [input_message]}, config)"
   ]
  },
  {
   "cell_type": "code",
   "execution_count": 7,
   "metadata": {},
   "outputs": [
    {
     "name": "stdout",
     "output_type": "stream",
     "text": [
      "\u001b[36;1m\u001b[1;3m[2:checkpoint]\u001b[0m \u001b[1mState at the end of step 2:\n",
      "\u001b[0m{'messages': [HumanMessage(content='hi', id='03ee94c8-e10a-4a16-a188-e19b83a60967'),\n",
      "              AIMessage(content='Hello! How can I assist you today?', response_metadata={'finish_reason': 'stop'}, id='run-d4ba6652-bb27-443d-9c31-43b7680ea508-0')]}\n",
      "\u001b[36;1m\u001b[1;3m[3:tasks]\u001b[0m \u001b[1mStarting step 3 with 1 task:\n",
      "\u001b[0m- \u001b[32;1m\u001b[1;3m__start__\u001b[0m -> {'messages': [HumanMessage(content='my name is juan')]}\n",
      "\u001b[36;1m\u001b[1;3m[3:writes]\u001b[0m \u001b[1mFinished step 3 with writes to 1 channel:\n",
      "\u001b[0m- \u001b[33;1m\u001b[1;3mmessages\u001b[0m -> [HumanMessage(content='my name is juan')]\n",
      "\u001b[36;1m\u001b[1;3m[3:checkpoint]\u001b[0m \u001b[1mState at the end of step 3:\n",
      "\u001b[0m{'messages': [HumanMessage(content='hi', id='03ee94c8-e10a-4a16-a188-e19b83a60967'),\n",
      "              AIMessage(content='Hello! How can I assist you today?', response_metadata={'finish_reason': 'stop'}, id='run-d4ba6652-bb27-443d-9c31-43b7680ea508-0'),\n",
      "              HumanMessage(content='my name is juan', id='82559867-0b5c-4745-a113-f5ad3ed53fb3')]}\n",
      "\u001b[36;1m\u001b[1;3m[4:tasks]\u001b[0m \u001b[1mStarting step 4 with 1 task:\n",
      "\u001b[0m- \u001b[32;1m\u001b[1;3magent\u001b[0m -> {'messages': [HumanMessage(content='hi', id='03ee94c8-e10a-4a16-a188-e19b83a60967'),\n",
      "              AIMessage(content='Hello! How can I assist you today?', response_metadata={'finish_reason': 'stop'}, id='run-d4ba6652-bb27-443d-9c31-43b7680ea508-0'),\n",
      "              HumanMessage(content='my name is juan', id='82559867-0b5c-4745-a113-f5ad3ed53fb3')]}\n",
      "\u001b[36;1m\u001b[1;3m[4:writes]\u001b[0m \u001b[1mFinished step 4 with writes to 1 channel:\n",
      "\u001b[0m- \u001b[33;1m\u001b[1;3mmessages\u001b[0m -> AIMessage(content='Nice to meet you, Juan! How can I help you today?', response_metadata={'finish_reason': 'stop'}, id='run-4b53211c-13c5-49fb-b613-767e449555c8-0')\n",
      "\u001b[36;1m\u001b[1;3m[4:checkpoint]\u001b[0m \u001b[1mState at the end of step 4:\n",
      "\u001b[0m{'messages': [HumanMessage(content='hi', id='03ee94c8-e10a-4a16-a188-e19b83a60967'),\n",
      "              AIMessage(content='Hello! How can I assist you today?', response_metadata={'finish_reason': 'stop'}, id='run-d4ba6652-bb27-443d-9c31-43b7680ea508-0'),\n",
      "              HumanMessage(content='my name is juan', id='82559867-0b5c-4745-a113-f5ad3ed53fb3'),\n",
      "              AIMessage(content='Nice to meet you, Juan! How can I help you today?', response_metadata={'finish_reason': 'stop'}, id='run-4b53211c-13c5-49fb-b613-767e449555c8-0')]}\n"
     ]
    },
    {
     "data": {
      "text/plain": [
       "{'messages': [HumanMessage(content='hi', id='03ee94c8-e10a-4a16-a188-e19b83a60967'),\n",
       "  AIMessage(content='Hello! How can I assist you today?', response_metadata={'finish_reason': 'stop'}, id='run-d4ba6652-bb27-443d-9c31-43b7680ea508-0'),\n",
       "  HumanMessage(content='my name is juan', id='82559867-0b5c-4745-a113-f5ad3ed53fb3'),\n",
       "  AIMessage(content='Nice to meet you, Juan! How can I help you today?', response_metadata={'finish_reason': 'stop'}, id='run-4b53211c-13c5-49fb-b613-767e449555c8-0')]}"
      ]
     },
     "execution_count": 7,
     "metadata": {},
     "output_type": "execute_result"
    }
   ],
   "source": [
    "input_message = HumanMessage(content=\"my name is juan\")\n",
    "await app.ainvoke({\"messages\": [input_message]}, config)"
   ]
  },
  {
   "cell_type": "code",
   "execution_count": 8,
   "metadata": {},
   "outputs": [
    {
     "name": "stdout",
     "output_type": "stream",
     "text": [
      "\u001b[36;1m\u001b[1;3m[5:checkpoint]\u001b[0m \u001b[1mState at the end of step 5:\n",
      "\u001b[0m{'messages': [HumanMessage(content='hi', id='03ee94c8-e10a-4a16-a188-e19b83a60967'),\n",
      "              AIMessage(content='Hello! How can I assist you today?', response_metadata={'finish_reason': 'stop'}, id='run-d4ba6652-bb27-443d-9c31-43b7680ea508-0'),\n",
      "              HumanMessage(content='my name is juan', id='82559867-0b5c-4745-a113-f5ad3ed53fb3'),\n",
      "              AIMessage(content='Nice to meet you, Juan! How can I help you today?', response_metadata={'finish_reason': 'stop'}, id='run-4b53211c-13c5-49fb-b613-767e449555c8-0')]}\n",
      "\u001b[36;1m\u001b[1;3m[6:tasks]\u001b[0m \u001b[1mStarting step 6 with 1 task:\n",
      "\u001b[0m- \u001b[32;1m\u001b[1;3m__start__\u001b[0m -> {'messages': [HumanMessage(content='what is my name?')]}\n",
      "\u001b[36;1m\u001b[1;3m[6:writes]\u001b[0m \u001b[1mFinished step 6 with writes to 1 channel:\n",
      "\u001b[0m- \u001b[33;1m\u001b[1;3mmessages\u001b[0m -> [HumanMessage(content='what is my name?')]\n",
      "\u001b[36;1m\u001b[1;3m[6:checkpoint]\u001b[0m \u001b[1mState at the end of step 6:\n",
      "\u001b[0m{'messages': [HumanMessage(content='hi', id='03ee94c8-e10a-4a16-a188-e19b83a60967'),\n",
      "              AIMessage(content='Hello! How can I assist you today?', response_metadata={'finish_reason': 'stop'}, id='run-d4ba6652-bb27-443d-9c31-43b7680ea508-0'),\n",
      "              HumanMessage(content='my name is juan', id='82559867-0b5c-4745-a113-f5ad3ed53fb3'),\n",
      "              AIMessage(content='Nice to meet you, Juan! How can I help you today?', response_metadata={'finish_reason': 'stop'}, id='run-4b53211c-13c5-49fb-b613-767e449555c8-0'),\n",
      "              HumanMessage(content='what is my name?', id='b9584b17-30de-4fd5-8fed-6924baebb12a')]}\n",
      "\u001b[36;1m\u001b[1;3m[7:tasks]\u001b[0m \u001b[1mStarting step 7 with 1 task:\n",
      "\u001b[0m- \u001b[32;1m\u001b[1;3magent\u001b[0m -> {'messages': [HumanMessage(content='hi', id='03ee94c8-e10a-4a16-a188-e19b83a60967'),\n",
      "              AIMessage(content='Hello! How can I assist you today?', response_metadata={'finish_reason': 'stop'}, id='run-d4ba6652-bb27-443d-9c31-43b7680ea508-0'),\n",
      "              HumanMessage(content='my name is juan', id='82559867-0b5c-4745-a113-f5ad3ed53fb3'),\n",
      "              AIMessage(content='Nice to meet you, Juan! How can I help you today?', response_metadata={'finish_reason': 'stop'}, id='run-4b53211c-13c5-49fb-b613-767e449555c8-0'),\n",
      "              HumanMessage(content='what is my name?', id='b9584b17-30de-4fd5-8fed-6924baebb12a')]}\n",
      "\u001b[36;1m\u001b[1;3m[7:writes]\u001b[0m \u001b[1mFinished step 7 with writes to 1 channel:\n",
      "\u001b[0m- \u001b[33;1m\u001b[1;3mmessages\u001b[0m -> AIMessage(content='Your name is Juan.', response_metadata={'finish_reason': 'stop'}, id='run-8805677e-69f0-4d65-8aff-64813f7a305d-0')\n",
      "\u001b[36;1m\u001b[1;3m[7:checkpoint]\u001b[0m \u001b[1mState at the end of step 7:\n",
      "\u001b[0m{'messages': [HumanMessage(content='hi', id='03ee94c8-e10a-4a16-a188-e19b83a60967'),\n",
      "              AIMessage(content='Hello! How can I assist you today?', response_metadata={'finish_reason': 'stop'}, id='run-d4ba6652-bb27-443d-9c31-43b7680ea508-0'),\n",
      "              HumanMessage(content='my name is juan', id='82559867-0b5c-4745-a113-f5ad3ed53fb3'),\n",
      "              AIMessage(content='Nice to meet you, Juan! How can I help you today?', response_metadata={'finish_reason': 'stop'}, id='run-4b53211c-13c5-49fb-b613-767e449555c8-0'),\n",
      "              HumanMessage(content='what is my name?', id='b9584b17-30de-4fd5-8fed-6924baebb12a'),\n",
      "              AIMessage(content='Your name is Juan.', response_metadata={'finish_reason': 'stop'}, id='run-8805677e-69f0-4d65-8aff-64813f7a305d-0')]}\n"
     ]
    },
    {
     "data": {
      "text/plain": [
       "{'messages': [HumanMessage(content='hi', id='03ee94c8-e10a-4a16-a188-e19b83a60967'),\n",
       "  AIMessage(content='Hello! How can I assist you today?', response_metadata={'finish_reason': 'stop'}, id='run-d4ba6652-bb27-443d-9c31-43b7680ea508-0'),\n",
       "  HumanMessage(content='my name is juan', id='82559867-0b5c-4745-a113-f5ad3ed53fb3'),\n",
       "  AIMessage(content='Nice to meet you, Juan! How can I help you today?', response_metadata={'finish_reason': 'stop'}, id='run-4b53211c-13c5-49fb-b613-767e449555c8-0'),\n",
       "  HumanMessage(content='what is my name?', id='b9584b17-30de-4fd5-8fed-6924baebb12a'),\n",
       "  AIMessage(content='Your name is Juan.', response_metadata={'finish_reason': 'stop'}, id='run-8805677e-69f0-4d65-8aff-64813f7a305d-0')]}"
      ]
     },
     "execution_count": 8,
     "metadata": {},
     "output_type": "execute_result"
    }
   ],
   "source": [
    "input_message = HumanMessage(content=\"what is my name?\")\n",
    "await app.ainvoke({\"messages\": [input_message]}, config)"
   ]
  }
 ],
 "metadata": {
  "kernelspec": {
   "display_name": ".venv",
   "language": "python",
   "name": "python3"
  },
  "language_info": {
   "codemirror_mode": {
    "name": "ipython",
    "version": 3
   },
   "file_extension": ".py",
   "mimetype": "text/x-python",
   "name": "python",
   "nbconvert_exporter": "python",
   "pygments_lexer": "ipython3",
   "version": "3.11.7"
  }
 },
 "nbformat": 4,
 "nbformat_minor": 2
}
